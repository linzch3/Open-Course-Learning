{
 "cells": [
  {
   "cell_type": "markdown",
   "metadata": {},
   "source": [
    "# 看完后可以学到什么\n",
    "\n",
    "- 学会使用re.split来拆分具有多种分隔符的字符串\n",
    "- 学会根据str.startswith/endswith来判断文件是否以什么为开头或结尾，同时还可以tuple为参数来实现或判断\n",
    "- 学会使用re.sub来调整字符串中具有特定规则的字符串的格式\n",
    "- 学会使用`\"\".join`拼接字符串\n",
    "- 学会使用str.ljust/rjust/center以及format来实现字符串的格式化输出\n",
    "- 学会使用str.strip来去除字符串两端不需要字符，用str.replace或re.sub来替换字符，用str.translate来实现字符映射以及字符删除"
   ]
  },
  {
   "cell_type": "markdown",
   "metadata": {},
   "source": [
    "# 拆分具有多种分隔符的字符串"
   ]
  },
  {
   "cell_type": "markdown",
   "metadata": {},
   "source": [
    "## 方法一：str.split() 每次处理一种分隔符"
   ]
  },
  {
   "cell_type": "code",
   "execution_count": 2,
   "metadata": {
    "ExecuteTime": {
     "end_time": "2019-01-17T08:06:53.824000Z",
     "start_time": "2019-01-17T08:06:53.816000Z"
    }
   },
   "outputs": [
    {
     "name": "stdout",
     "output_type": "stream",
     "text": [
      "['dah', 'asdlajsd', 'asda', 'sadasdas']\n"
     ]
    }
   ],
   "source": [
    "def mySplit(s, ds):\n",
    "    res = [s]\n",
    "    for d in ds:\n",
    "        t = []\n",
    "        map(lambda x:t.extend(x.split(d)), res)\n",
    "        res = t\n",
    "    return [x for x in res if x] # 不是直接返回res 是因为可能会有空格\n",
    "\n",
    "s = 'dah,asdlajsd:asda|sadasdas;'\n",
    "print mySplit(s, ',:|;')"
   ]
  },
  {
   "cell_type": "markdown",
   "metadata": {},
   "source": [
    "## 方法二：re.split() 正则表达式（推荐）"
   ]
  },
  {
   "cell_type": "code",
   "execution_count": 8,
   "metadata": {
    "ExecuteTime": {
     "end_time": "2019-01-17T08:08:40.728000Z",
     "start_time": "2019-01-17T08:08:40.723000Z"
    }
   },
   "outputs": [
    {
     "name": "stdout",
     "output_type": "stream",
     "text": [
      "['dah', 'asdlajsd', 'asda', 'sadasdas', '']\n",
      "['dah', 'asdlajsd', 'asda', 'sadasdas']\n"
     ]
    }
   ],
   "source": [
    "import re\n",
    "\n",
    "res = re.split(r'[,:|;]+', s)\n",
    "print res #没有过滤空格的\n",
    "print [x for x in res if x] #有过滤空格的"
   ]
  },
  {
   "cell_type": "markdown",
   "metadata": {},
   "source": [
    "注：若是处理单个分隔符应该使用 s.split() 因为速度更快"
   ]
  },
  {
   "cell_type": "markdown",
   "metadata": {},
   "source": [
    "# 如何判断字符串a是否以字符串b开头或结尾"
   ]
  },
  {
   "cell_type": "code",
   "execution_count": 12,
   "metadata": {
    "ExecuteTime": {
     "end_time": "2019-01-17T08:14:03.623000Z",
     "start_time": "2019-01-17T08:14:03.617000Z"
    }
   },
   "outputs": [
    {
     "name": "stdout",
     "output_type": "stream",
     "text": [
      "True True\n",
      "True True\n"
     ]
    }
   ],
   "source": [
    "a = \"a.py\"\n",
    "b = \"b.sh\"\n",
    "# 可通过元组来实现或判断\n",
    "print a.endswith(('.py', '.sh')), b.endswith(('.py', '.sh'))\n",
    "print a.startswith(('a', 'b')), b.startswith(('a', 'b'))"
   ]
  },
  {
   "cell_type": "markdown",
   "metadata": {},
   "source": [
    "# 如何调整字符串中文本的格式"
   ]
  },
  {
   "cell_type": "code",
   "execution_count": 13,
   "metadata": {
    "ExecuteTime": {
     "end_time": "2019-01-17T08:19:24.552000Z",
     "start_time": "2019-01-17T08:19:24.546000Z"
    }
   },
   "outputs": [
    {
     "data": {
      "text/plain": [
       "'01/15/2019 12/25/2099'"
      ]
     },
     "execution_count": 13,
     "metadata": {},
     "output_type": "execute_result"
    }
   ],
   "source": [
    "s = \"2019-01-15 2099-12-25\"\n",
    "re.sub('(\\d{4})-(\\d{2})-(\\d{2})', r'\\2/\\3/\\1', s) # 后面的\\1表示 re 匹配到的组"
   ]
  },
  {
   "cell_type": "markdown",
   "metadata": {},
   "source": [
    "# 如何将多个小字符串拼接成一个大的字符串"
   ]
  },
  {
   "cell_type": "code",
   "execution_count": 14,
   "metadata": {
    "ExecuteTime": {
     "end_time": "2019-01-17T08:22:03.087000Z",
     "start_time": "2019-01-17T08:22:03.080000Z"
    }
   },
   "outputs": [
    {
     "data": {
      "text/plain": [
       "'adasda-asda-ewrer'"
      ]
     },
     "execution_count": 14,
     "metadata": {},
     "output_type": "execute_result"
    }
   ],
   "source": [
    "s = ['adasda', 'asda', 'ewrer']\n",
    "\"-\".join(s)"
   ]
  },
  {
   "cell_type": "markdown",
   "metadata": {},
   "source": [
    "#  如何对字符串进行左, 右, 居中对齐"
   ]
  },
  {
   "cell_type": "markdown",
   "metadata": {},
   "source": [
    "## 使用 str.ljust() str.rjust() str.center() 进行左右对齐"
   ]
  },
  {
   "cell_type": "code",
   "execution_count": 16,
   "metadata": {
    "ExecuteTime": {
     "end_time": "2019-01-17T08:24:56.259000Z",
     "start_time": "2019-01-17T08:24:56.256000Z"
    }
   },
   "outputs": [],
   "source": [
    "s = 'abc'"
   ]
  },
  {
   "cell_type": "code",
   "execution_count": 20,
   "metadata": {
    "ExecuteTime": {
     "end_time": "2019-01-17T08:25:54.072000Z",
     "start_time": "2019-01-17T08:25:54.067000Z"
    }
   },
   "outputs": [
    {
     "data": {
      "text/plain": [
       "'abc       '"
      ]
     },
     "execution_count": 20,
     "metadata": {},
     "output_type": "execute_result"
    }
   ],
   "source": [
    "s.ljust(10) "
   ]
  },
  {
   "cell_type": "code",
   "execution_count": 18,
   "metadata": {
    "ExecuteTime": {
     "end_time": "2019-01-17T08:25:15.756000Z",
     "start_time": "2019-01-17T08:25:15.749000Z"
    }
   },
   "outputs": [
    {
     "data": {
      "text/plain": [
       "'abc======='"
      ]
     },
     "execution_count": 18,
     "metadata": {},
     "output_type": "execute_result"
    }
   ],
   "source": [
    "s.ljust(10, '=') "
   ]
  },
  {
   "cell_type": "markdown",
   "metadata": {},
   "source": [
    "## format()"
   ]
  },
  {
   "cell_type": "code",
   "execution_count": 23,
   "metadata": {
    "ExecuteTime": {
     "end_time": "2019-01-17T08:27:02.720000Z",
     "start_time": "2019-01-17T08:27:02.712000Z"
    }
   },
   "outputs": [
    {
     "data": {
      "text/plain": [
       "'abc       '"
      ]
     },
     "execution_count": 23,
     "metadata": {},
     "output_type": "execute_result"
    }
   ],
   "source": [
    "format(s, '<10')"
   ]
  },
  {
   "cell_type": "code",
   "execution_count": 22,
   "metadata": {
    "ExecuteTime": {
     "end_time": "2019-01-17T08:26:54.798000Z",
     "start_time": "2019-01-17T08:26:54.791000Z"
    }
   },
   "outputs": [
    {
     "data": {
      "text/plain": [
       "'       abc'"
      ]
     },
     "execution_count": 22,
     "metadata": {},
     "output_type": "execute_result"
    }
   ],
   "source": [
    "format(s, '>10') "
   ]
  },
  {
   "cell_type": "code",
   "execution_count": 24,
   "metadata": {
    "ExecuteTime": {
     "end_time": "2019-01-17T08:27:06.054000Z",
     "start_time": "2019-01-17T08:27:06.047000Z"
    }
   },
   "outputs": [
    {
     "data": {
      "text/plain": [
       "'   abc    '"
      ]
     },
     "execution_count": 24,
     "metadata": {},
     "output_type": "execute_result"
    }
   ],
   "source": [
    "format(s, '^10') "
   ]
  },
  {
   "cell_type": "markdown",
   "metadata": {},
   "source": [
    "## 例子"
   ]
  },
  {
   "cell_type": "code",
   "execution_count": 36,
   "metadata": {
    "ExecuteTime": {
     "end_time": "2019-01-17T08:30:27.475000Z",
     "start_time": "2019-01-17T08:30:27.468000Z"
    }
   },
   "outputs": [
    {
     "name": "stdout",
     "output_type": "stream",
     "text": [
      "a__________: 123\n",
      "cfghf______: 67\n",
      "abcdefghigk: 345\n"
     ]
    }
   ],
   "source": [
    "d = {\n",
    "    'a':123,\n",
    "    'abcdefghigk':345,\n",
    "    'cfghf':67\n",
    "}\n",
    "w = max(map(len, d.keys()))\n",
    "for k in d:\n",
    "    print(k.ljust(w, \"_\")+': '+str(d[k]))"
   ]
  },
  {
   "cell_type": "markdown",
   "metadata": {},
   "source": [
    "注：notebook中显示字符的宽度有点不一致，这里例子的运行结果是正确的"
   ]
  },
  {
   "cell_type": "markdown",
   "metadata": {},
   "source": [
    "# 如何去掉字符串中不需要的字符"
   ]
  },
  {
   "cell_type": "markdown",
   "metadata": {},
   "source": [
    "## strip() 去掉两端空白 lstrip() 去掉左端 rstrip() 去掉右端"
   ]
  },
  {
   "cell_type": "code",
   "execution_count": 37,
   "metadata": {
    "ExecuteTime": {
     "end_time": "2019-01-17T08:33:38.488000Z",
     "start_time": "2019-01-17T08:33:38.480000Z"
    }
   },
   "outputs": [
    {
     "data": {
      "text/plain": [
       "'asd   123'"
      ]
     },
     "execution_count": 37,
     "metadata": {},
     "output_type": "execute_result"
    }
   ],
   "source": [
    "s = '     asd   123    '\n",
    "s.strip()"
   ]
  },
  {
   "cell_type": "code",
   "execution_count": 40,
   "metadata": {
    "ExecuteTime": {
     "end_time": "2019-01-17T08:34:16.949000Z",
     "start_time": "2019-01-17T08:34:16.942000Z"
    }
   },
   "outputs": [
    {
     "data": {
      "text/plain": [
       "'--asd--123--'"
      ]
     },
     "execution_count": 40,
     "metadata": {},
     "output_type": "execute_result"
    }
   ],
   "source": [
    "s = '+++--asd--123--+++'\n",
    "s.strip('+') "
   ]
  },
  {
   "cell_type": "code",
   "execution_count": 42,
   "metadata": {
    "ExecuteTime": {
     "end_time": "2019-01-17T08:34:39.660000Z",
     "start_time": "2019-01-17T08:34:39.653000Z"
    }
   },
   "outputs": [
    {
     "data": {
      "text/plain": [
       "'--asd--123--'"
      ]
     },
     "execution_count": 42,
     "metadata": {},
     "output_type": "execute_result"
    }
   ],
   "source": [
    "s = '+++--asd--123--+++'\n",
    "s.strip('+ ') #这里也可以同时strip多个字符串"
   ]
  },
  {
   "cell_type": "markdown",
   "metadata": {},
   "source": [
    "## str.replace() 或者 re.sub()"
   ]
  },
  {
   "cell_type": "code",
   "execution_count": 43,
   "metadata": {
    "ExecuteTime": {
     "end_time": "2019-01-17T08:35:13.411000Z",
     "start_time": "2019-01-17T08:35:13.403000Z"
    }
   },
   "outputs": [
    {
     "data": {
      "text/plain": [
       "'123asduio'"
      ]
     },
     "execution_count": 43,
     "metadata": {},
     "output_type": "execute_result"
    }
   ],
   "source": [
    "s = '\\t123\\tasd\\tuio'\n",
    "s.replace('\\t', '')"
   ]
  },
  {
   "cell_type": "markdown",
   "metadata": {},
   "source": [
    "## str.translate():字符映射"
   ]
  },
  {
   "cell_type": "code",
   "execution_count": 45,
   "metadata": {
    "ExecuteTime": {
     "end_time": "2019-01-17T08:36:40.510000Z",
     "start_time": "2019-01-17T08:36:40.502000Z"
    }
   },
   "outputs": [
    {
     "data": {
      "text/plain": [
       "'xyz123abc'"
      ]
     },
     "execution_count": 45,
     "metadata": {},
     "output_type": "execute_result"
    }
   ],
   "source": [
    "s = 'abc123xyz'\n",
    "import string\n",
    "s.translate(string.maketrans('abcxyz', 'xyzabc'))"
   ]
  },
  {
   "cell_type": "code",
   "execution_count": 46,
   "metadata": {
    "ExecuteTime": {
     "end_time": "2019-01-17T08:39:30.708000Z",
     "start_time": "2019-01-17T08:39:30.701000Z"
    }
   },
   "outputs": [
    {
     "data": {
      "text/plain": [
       "'abcfef'"
      ]
     },
     "execution_count": 46,
     "metadata": {},
     "output_type": "execute_result"
    }
   ],
   "source": [
    "s = 'abc\\rfef\\t\\n'\n",
    "s.translate(None, \"\\r\\t\\n\") #第一个参数设置为·None后，第二个参数即是要删除的字符，比如这里\\r\\t\\n这三个参数都会被删除"
   ]
  }
 ],
 "metadata": {
  "kernelspec": {
   "display_name": "python2.7",
   "language": "python",
   "name": "python2.7"
  },
  "language_info": {
   "codemirror_mode": {
    "name": "ipython",
    "version": 2
   },
   "file_extension": ".py",
   "mimetype": "text/x-python",
   "name": "python",
   "nbconvert_exporter": "python",
   "pygments_lexer": "ipython2",
   "version": "2.7.15"
  },
  "latex_envs": {
   "LaTeX_envs_menu_present": true,
   "autoclose": false,
   "autocomplete": true,
   "bibliofile": "biblio.bib",
   "cite_by": "apalike",
   "current_citInitial": 1,
   "eqLabelWithNumbers": true,
   "eqNumInitial": 1,
   "hotkeys": {
    "equation": "Ctrl-E",
    "itemize": "Ctrl-I"
   },
   "labels_anchors": false,
   "latex_user_defs": false,
   "report_style_numbering": false,
   "user_envs_cfg": false
  },
  "toc": {
   "base_numbering": 1,
   "nav_menu": {},
   "number_sections": true,
   "sideBar": true,
   "skip_h1_title": false,
   "title_cell": "Table of Contents",
   "title_sidebar": "Contents",
   "toc_cell": false,
   "toc_position": {},
   "toc_section_display": true,
   "toc_window_display": false
  }
 },
 "nbformat": 4,
 "nbformat_minor": 2
}
