{
 "cells": [
  {
   "cell_type": "markdown",
   "metadata": {},
   "source": [
    "# 看完后可以学到什么\n",
    "\n",
    "- 列表表达式果然是最简单高效的\n",
    "- 原来还有字典表达式这种东西存在\n",
    "- 原来还有个zip函数可以用来组装tuple\n",
    "- 对字典按照value值排序的方法\n",
    "- 学会使用functools的reduce以及map函数\n",
    "- 学会使用collections的nametuple, OrderedDict, Counter, deque\n",
    "- 学会使用pickle保存python对象到文件中以及从文件中加载python对象"
   ]
  },
  {
   "cell_type": "markdown",
   "metadata": {},
   "source": [
    "#  如何在列表,字典, 集合中根据条件筛选数据\n",
    "\n",
    "## 过滤列表的负数"
   ]
  },
  {
   "cell_type": "code",
   "execution_count": 9,
   "metadata": {
    "ExecuteTime": {
     "end_time": "2019-01-17T02:15:55.816000Z",
     "start_time": "2019-01-17T02:15:55.809000Z"
    }
   },
   "outputs": [
    {
     "data": {
      "text/plain": [
       "[-4, 7, 2, -8, -10, 7, 0, -5, -10, -8]"
      ]
     },
     "execution_count": 9,
     "metadata": {},
     "output_type": "execute_result"
    }
   ],
   "source": [
    "from random import randint\n",
    "data = [randint(-10, 10) for _ in range(10)]\n",
    "data"
   ]
  },
  {
   "cell_type": "markdown",
   "metadata": {},
   "source": [
    "### 方法一"
   ]
  },
  {
   "cell_type": "code",
   "execution_count": 10,
   "metadata": {
    "ExecuteTime": {
     "end_time": "2019-01-17T02:15:55.837000Z",
     "start_time": "2019-01-17T02:15:55.827000Z"
    }
   },
   "outputs": [
    {
     "data": {
      "text/plain": [
       "[7, 2, 7]"
      ]
     },
     "execution_count": 10,
     "metadata": {},
     "output_type": "execute_result"
    }
   ],
   "source": [
    "filter(lambda x: x > 0, data)"
   ]
  },
  {
   "cell_type": "markdown",
   "metadata": {},
   "source": [
    "### 方法二（推荐）"
   ]
  },
  {
   "cell_type": "code",
   "execution_count": 11,
   "metadata": {
    "ExecuteTime": {
     "end_time": "2019-01-17T02:15:55.852000Z",
     "start_time": "2019-01-17T02:15:55.844000Z"
    }
   },
   "outputs": [
    {
     "data": {
      "text/plain": [
       "[7, 2, 7, 0]"
      ]
     },
     "execution_count": 11,
     "metadata": {},
     "output_type": "execute_result"
    }
   ],
   "source": [
    "# 方法二\n",
    "[x for x in data if x >= 0]"
   ]
  },
  {
   "cell_type": "markdown",
   "metadata": {},
   "source": [
    "### 两种方法的时间比较"
   ]
  },
  {
   "cell_type": "code",
   "execution_count": 12,
   "metadata": {
    "ExecuteTime": {
     "end_time": "2019-01-17T02:16:00.475000Z",
     "start_time": "2019-01-17T02:15:55.861000Z"
    }
   },
   "outputs": [
    {
     "name": "stdout",
     "output_type": "stream",
     "text": [
      "1000000 loops, best of 3: 1.11 µs per loop\n"
     ]
    }
   ],
   "source": [
    "%timeit filter(lambda x:x > 0, data)"
   ]
  },
  {
   "cell_type": "code",
   "execution_count": 13,
   "metadata": {
    "ExecuteTime": {
     "end_time": "2019-01-17T02:16:02.007000Z",
     "start_time": "2019-01-17T02:16:00.478000Z"
    }
   },
   "outputs": [
    {
     "name": "stdout",
     "output_type": "stream",
     "text": [
      "1000000 loops, best of 3: 362 ns per loop\n"
     ]
    }
   ],
   "source": [
    "%timeit [x for x in data if x >= 0]"
   ]
  },
  {
   "cell_type": "markdown",
   "metadata": {},
   "source": [
    "**结论：使用列表表达式更快。** "
   ]
  },
  {
   "cell_type": "markdown",
   "metadata": {},
   "source": [
    "## 筛出字典某些元素"
   ]
  },
  {
   "cell_type": "code",
   "execution_count": 14,
   "metadata": {
    "ExecuteTime": {
     "end_time": "2019-01-17T02:16:02.022000Z",
     "start_time": "2019-01-17T02:16:02.010000Z"
    }
   },
   "outputs": [
    {
     "data": {
      "text/plain": [
       "{1: 96,\n",
       " 2: 84,\n",
       " 3: 96,\n",
       " 4: 76,\n",
       " 5: 73,\n",
       " 6: 96,\n",
       " 7: 81,\n",
       " 8: 70,\n",
       " 9: 87,\n",
       " 10: 96,\n",
       " 11: 99,\n",
       " 12: 60,\n",
       " 13: 83,\n",
       " 14: 71}"
      ]
     },
     "execution_count": 14,
     "metadata": {},
     "output_type": "execute_result"
    }
   ],
   "source": [
    "stu = {x: randint(60, 101) for x in range(1, 15)}  # 字典表达式\n",
    "stu"
   ]
  },
  {
   "cell_type": "code",
   "execution_count": 15,
   "metadata": {
    "ExecuteTime": {
     "end_time": "2019-01-17T02:16:02.032000Z",
     "start_time": "2019-01-17T02:16:02.026000Z"
    }
   },
   "outputs": [
    {
     "data": {
      "text/plain": [
       "{1: 96, 3: 96, 6: 96, 10: 96, 11: 99}"
      ]
     },
     "execution_count": 15,
     "metadata": {},
     "output_type": "execute_result"
    }
   ],
   "source": [
    "{k: v for k, v in stu.items() if v >= 90}"
   ]
  },
  {
   "cell_type": "markdown",
   "metadata": {},
   "source": [
    "## 筛出集合中某些元素"
   ]
  },
  {
   "cell_type": "code",
   "execution_count": 19,
   "metadata": {
    "ExecuteTime": {
     "end_time": "2019-01-17T02:19:51.678000Z",
     "start_time": "2019-01-17T02:19:51.669000Z"
    }
   },
   "outputs": [
    {
     "name": "stdout",
     "output_type": "stream",
     "text": [
      "set([0, 2, 7, -10, -8, -5, -4])\n"
     ]
    },
    {
     "data": {
      "text/plain": [
       "{-10, -8, -4, 0, 2}"
      ]
     },
     "execution_count": 19,
     "metadata": {},
     "output_type": "execute_result"
    }
   ],
   "source": [
    "s = set(data)\n",
    "print s\n",
    "{x for x in s if x % 2 == 0}"
   ]
  },
  {
   "cell_type": "markdown",
   "metadata": {},
   "source": [
    "# 如何为元组中的每个元素命名, 提高程序可读性\n",
    "\n",
    "场景描述：对于元组stu，如果我们想访问第i个field的值的话，就是stu[i]，这样我们的程序中就会充斥着许多诸如0123之类的下标，这样的程序的可读性是比较差的。"
   ]
  },
  {
   "cell_type": "code",
   "execution_count": 21,
   "metadata": {
    "ExecuteTime": {
     "end_time": "2019-01-17T02:29:27.735000Z",
     "start_time": "2019-01-17T02:29:27.728000Z"
    }
   },
   "outputs": [
    {
     "data": {
      "text/plain": [
       "'Jim'"
      ]
     },
     "execution_count": 21,
     "metadata": {},
     "output_type": "execute_result"
    }
   ],
   "source": [
    "stu = ('Jim', 16, 'male', 'jim@gmail.com')\n",
    "stu[0]"
   ]
  },
  {
   "cell_type": "markdown",
   "metadata": {},
   "source": [
    "## 方法一"
   ]
  },
  {
   "cell_type": "code",
   "execution_count": 22,
   "metadata": {
    "ExecuteTime": {
     "end_time": "2019-01-17T02:30:08.741000Z",
     "start_time": "2019-01-17T02:30:08.734000Z"
    }
   },
   "outputs": [
    {
     "data": {
      "text/plain": [
       "'Jim'"
      ]
     },
     "execution_count": 22,
     "metadata": {},
     "output_type": "execute_result"
    }
   ],
   "source": [
    "name, age, sex, mail = range(4)\n",
    "#现在要访问第一个field就只需要用可读性更好的stu[name]来实现了\n",
    "stu[name]"
   ]
  },
  {
   "cell_type": "markdown",
   "metadata": {},
   "source": [
    "## 方法二"
   ]
  },
  {
   "cell_type": "code",
   "execution_count": 29,
   "metadata": {
    "ExecuteTime": {
     "end_time": "2019-01-17T02:49:12.471000Z",
     "start_time": "2019-01-17T02:49:12.460000Z"
    }
   },
   "outputs": [
    {
     "data": {
      "text/plain": [
       "'Jim'"
      ]
     },
     "execution_count": 29,
     "metadata": {},
     "output_type": "execute_result"
    }
   ],
   "source": [
    "from collections import namedtuple\n",
    "#第一个参数为类的名字，通常设置为与返回值同名\n",
    "student = namedtuple(\"student\", ['name', 'age', 'sex', 'mail'])\n",
    "s = student('Jim', 16, 'male', 'jim@gmail.com')\n",
    "s.name"
   ]
  },
  {
   "cell_type": "markdown",
   "metadata": {},
   "source": [
    "# 如何统计序列中元素的出现频度\n",
    "\n",
    "使用Counter\n",
    "\n",
    "## 例子1：随机序列出现次数最多的3个数"
   ]
  },
  {
   "cell_type": "code",
   "execution_count": 35,
   "metadata": {
    "ExecuteTime": {
     "end_time": "2019-01-17T02:50:51.790000Z",
     "start_time": "2019-01-17T02:50:51.782000Z"
    }
   },
   "outputs": [
    {
     "data": {
      "text/plain": [
       "[4, 8, 0, 0, 2, 4, 0, 0, 8, 9, 4, 9, 6, 5, 6, 10, 3, 9, 8, 1]"
      ]
     },
     "execution_count": 35,
     "metadata": {},
     "output_type": "execute_result"
    }
   ],
   "source": [
    "data = [randint(0, 10) for _ in range(20)]\n",
    "data"
   ]
  },
  {
   "cell_type": "code",
   "execution_count": 36,
   "metadata": {
    "ExecuteTime": {
     "end_time": "2019-01-17T02:50:53.869000Z",
     "start_time": "2019-01-17T02:50:53.862000Z"
    }
   },
   "outputs": [
    {
     "data": {
      "text/plain": [
       "[(0, 4), (4, 3), (8, 3)]"
      ]
     },
     "execution_count": 36,
     "metadata": {},
     "output_type": "execute_result"
    }
   ],
   "source": [
    "from collections import Counter\n",
    "c = Counter(data)\n",
    "c.most_common(3)"
   ]
  },
  {
   "cell_type": "markdown",
   "metadata": {},
   "source": [
    "## 例子2：对一英文文本进行单词词频统计, 找到频率最高的10个单词"
   ]
  },
  {
   "cell_type": "code",
   "execution_count": 44,
   "metadata": {
    "ExecuteTime": {
     "end_time": "2019-01-17T02:57:08.171000Z",
     "start_time": "2019-01-17T02:57:08.164000Z"
    }
   },
   "outputs": [
    {
     "data": {
      "text/plain": [
       "\"\\nPython\\nPython logo and wordmark.svg\\nParadigm\\tMulti-paradigm: functional, imperative, object-oriented, reflective\\nDesigned by\\tGuido van Rossum\\nDeveloper\\tPython Software Foundation\\nFirst appeared\\t1990; 29 years ago[1]\\nStable release\\t\\n3.7.2 / 24 December 2018; 23 days ago[2]\\n2.7.15 / 1 May 2018; 8 months ago[3]\\nTyping discipline\\tDuck, dynamic, gradual (since 3.5),[4] strong\\nLicense\\tPython Software Foundation License\\nFilename extensions\\t.py, .pyc, .pyd, .pyo (prior to 3.5),[5] .pyw, .pyz (since 3.5)[6]\\nWebsite\\twww.python.org\\nMajor implementations\\nCPython, IronPython, Jython, MicroPython, Numba, PyPy, Stackless Python, CircuitPython\\nDialects\\nCython, RPython\\nInfluenced by\\nABC,[7] ALGOL 68,[8] APL[9] C,[10] C++,[11] CLU,[12] Dylan,[13] Haskell,[14] Icon,[15] Java,[16] Lisp,[17] Modula-3,[11] Perl, Standard ML[9]\\nInfluenced\\nBoo, Cobra, CoffeeScript,[18] D, F#, Genie,[19] Go, Apache Groovy, JavaScript,[20][21] Julia,[22] Nim, Ring,[23] Ruby,[24] Swift[25]\\n Python Programming at Wikibooks\\nPython is an interpreted, high-level, general-purpose programming language. Created by Guido van Rossum and first released in 1991, Python has a design philosophy that emphasizes code readability, notably using significant whitespace. It provides constructs that enable clear programming on both small and large scales.[26] Van Rossum led the language community until stepping down as leader in July 2018.[27][28]\\n\\nPython features a dynamic type system and automatic memory management. It supports multiple programming paradigms, including object-oriented, imperative, functional and procedural, and has a large and comprehensive standard library.[29]\\n\\nPython interpreters are available for many operating systems. CPython, the reference implementation of Python, is open source software[30] and has a community-based development model, as do nearly all of Python's other implementations. Python and CPython are managed by the non-profit Python Software Foundation.\""
      ]
     },
     "execution_count": 44,
     "metadata": {},
     "output_type": "execute_result"
    }
   ],
   "source": [
    "import re\n",
    "txt = open('data/words-en.txt').read()\n",
    "txt"
   ]
  },
  {
   "cell_type": "code",
   "execution_count": 45,
   "metadata": {
    "ExecuteTime": {
     "end_time": "2019-01-17T02:57:13.603000Z",
     "start_time": "2019-01-17T02:57:13.596000Z"
    }
   },
   "outputs": [
    {
     "data": {
      "text/plain": [
       "[('Python', 14),\n",
       " ('and', 9),\n",
       " ('3', 6),\n",
       " ('a', 4),\n",
       " ('by', 4),\n",
       " ('5', 4),\n",
       " ('Foundation', 3),\n",
       " ('has', 3),\n",
       " ('2018', 3),\n",
       " ('7', 3)]"
      ]
     },
     "execution_count": 45,
     "metadata": {},
     "output_type": "execute_result"
    }
   ],
   "source": [
    "c = Counter(re.split('\\W+', txt))  # 分割\n",
    "c.most_common(10)"
   ]
  },
  {
   "cell_type": "markdown",
   "metadata": {},
   "source": [
    "# 如何根据字典中值的大小, 对字典中的项排序"
   ]
  },
  {
   "cell_type": "code",
   "execution_count": 46,
   "metadata": {
    "ExecuteTime": {
     "end_time": "2019-01-17T03:09:24.609000Z",
     "start_time": "2019-01-17T03:09:24.601000Z"
    }
   },
   "outputs": [
    {
     "data": {
      "text/plain": [
       "{'a': 84, 'b': 83, 'c': 65, 'x': 68, 'y': 85, 'z': 74}"
      ]
     },
     "execution_count": 46,
     "metadata": {},
     "output_type": "execute_result"
    }
   ],
   "source": [
    "d = {x: randint(60, 100) for x in 'xyzabc'}\n",
    "d"
   ]
  },
  {
   "cell_type": "markdown",
   "metadata": {},
   "source": [
    "## 单纯用sorted只能对key值排序"
   ]
  },
  {
   "cell_type": "code",
   "execution_count": 47,
   "metadata": {
    "ExecuteTime": {
     "end_time": "2019-01-17T03:10:36.158000Z",
     "start_time": "2019-01-17T03:10:36.149000Z"
    }
   },
   "outputs": [
    {
     "data": {
      "text/plain": [
       "['a', 'b', 'c', 'x', 'y', 'z']"
      ]
     },
     "execution_count": 47,
     "metadata": {},
     "output_type": "execute_result"
    }
   ],
   "source": [
    "sorted(d)"
   ]
  },
  {
   "cell_type": "markdown",
   "metadata": {},
   "source": [
    "## 方法一：zip函数，修改字典key和value的顺序作为元组来排序"
   ]
  },
  {
   "cell_type": "code",
   "execution_count": 52,
   "metadata": {
    "ExecuteTime": {
     "end_time": "2019-01-17T03:12:59.927000Z",
     "start_time": "2019-01-17T03:12:59.918000Z"
    }
   },
   "outputs": [
    {
     "data": {
      "text/plain": [
       "[(65, 'c'), (68, 'x'), (74, 'z'), (83, 'b'), (84, 'a'), (85, 'y')]"
      ]
     },
     "execution_count": 52,
     "metadata": {},
     "output_type": "execute_result"
    }
   ],
   "source": [
    "s = sorted(zip(d.values(), d.keys()))\n",
    "s"
   ]
  },
  {
   "cell_type": "code",
   "execution_count": 53,
   "metadata": {
    "ExecuteTime": {
     "end_time": "2019-01-17T03:13:06.269000Z",
     "start_time": "2019-01-17T03:13:06.261000Z"
    }
   },
   "outputs": [
    {
     "data": {
      "text/plain": [
       "{65: 'c', 68: 'x', 74: 'z', 83: 'b', 84: 'a', 85: 'y'}"
      ]
     },
     "execution_count": 53,
     "metadata": {},
     "output_type": "execute_result"
    }
   ],
   "source": [
    "dict(s)  #然后再转换回字典"
   ]
  },
  {
   "cell_type": "markdown",
   "metadata": {},
   "source": [
    "## 方法二：传递 sorted 函数的 key 参数（推荐）"
   ]
  },
  {
   "cell_type": "code",
   "execution_count": 54,
   "metadata": {
    "ExecuteTime": {
     "end_time": "2019-01-17T03:14:01.801000Z",
     "start_time": "2019-01-17T03:14:01.794000Z"
    }
   },
   "outputs": [
    {
     "data": {
      "text/plain": [
       "[('c', 65), ('x', 68), ('z', 74), ('b', 83), ('a', 84), ('y', 85)]"
      ]
     },
     "execution_count": 54,
     "metadata": {},
     "output_type": "execute_result"
    }
   ],
   "source": [
    "sorted(d.items(), key=lambda x: x[1])"
   ]
  },
  {
   "cell_type": "markdown",
   "metadata": {},
   "source": [
    "#  如何快速找到多个字典中的公共键(key)"
   ]
  },
  {
   "cell_type": "code",
   "execution_count": 81,
   "metadata": {
    "ExecuteTime": {
     "end_time": "2019-01-17T06:17:23.169000Z",
     "start_time": "2019-01-17T06:17:23.161000Z"
    }
   },
   "outputs": [
    {
     "name": "stdout",
     "output_type": "stream",
     "text": [
      "dict_keys(['c', 'd', 'f']) dict_keys(['c', 'b', 'e', 'd', 'g', 'f']) dict_keys(['c', 'b', 'g', 'f'])\n",
      "set(['c', 'f'])\n"
     ]
    }
   ],
   "source": [
    "from random import randint, sample\n",
    "s1 = {x: randint(1, 4) for x in sample('abcdefg', randint(3, 6))}\n",
    "s2 = {x: randint(1, 4) for x in sample('abcdefg', randint(3, 6))}\n",
    "s3 = {x: randint(1, 4) for x in sample('abcdefg', randint(3, 6))}\n",
    "print s1.viewkeys(), s2.viewkeys(), s3.viewkeys()\n",
    "print s1.viewkeys() & s2.viewkeys() & s3.viewkeys()"
   ]
  },
  {
   "cell_type": "markdown",
   "metadata": {},
   "source": [
    "注：viewkeys返回的是集合类型，所以可以进行&操作。"
   ]
  },
  {
   "cell_type": "code",
   "execution_count": 86,
   "metadata": {
    "ExecuteTime": {
     "end_time": "2019-01-17T06:28:32.850000Z",
     "start_time": "2019-01-17T06:28:32.842000Z"
    }
   },
   "outputs": [
    {
     "data": {
      "text/plain": [
       "[['c', 'd', 'f'], ['c', 'b', 'e', 'd', 'g', 'f'], ['c', 'b', 'g', 'f']]"
      ]
     },
     "execution_count": 86,
     "metadata": {},
     "output_type": "execute_result"
    }
   ],
   "source": [
    "map(dict.keys, [s1, s2, s3])"
   ]
  },
  {
   "cell_type": "code",
   "execution_count": 85,
   "metadata": {
    "ExecuteTime": {
     "end_time": "2019-01-17T06:27:55.939000Z",
     "start_time": "2019-01-17T06:27:55.932000Z"
    }
   },
   "outputs": [
    {
     "data": {
      "text/plain": [
       "{'c', 'f'}"
      ]
     },
     "execution_count": 85,
     "metadata": {},
     "output_type": "execute_result"
    }
   ],
   "source": [
    "from functools import reduce\n",
    "reduce(lambda a, b: a & b, map(dict.viewkeys, [s1, s2, s3]))"
   ]
  },
  {
   "cell_type": "markdown",
   "metadata": {},
   "source": [
    "#  如何让字典保持有序"
   ]
  },
  {
   "cell_type": "code",
   "execution_count": 55,
   "metadata": {
    "ExecuteTime": {
     "end_time": "2019-01-17T03:25:54.879000Z",
     "start_time": "2019-01-17T03:25:54.872000Z"
    }
   },
   "outputs": [
    {
     "name": "stdout",
     "output_type": "stream",
     "text": [
      "Bob\n",
      "Jim\n",
      "Tom\n"
     ]
    }
   ],
   "source": [
    "d = {}\n",
    "d['Jim'] = (1, 35)\n",
    "d['Tom'] = (2, 37)\n",
    "d['Bob'] = (3, 42)\n",
    "for k in d:\n",
    "    print(k)\n",
    "# Bob Jim   Tom 并不是按照进入字典序列打印"
   ]
  },
  {
   "cell_type": "code",
   "execution_count": 56,
   "metadata": {
    "ExecuteTime": {
     "end_time": "2019-01-17T03:26:47.172000Z",
     "start_time": "2019-01-17T03:26:47.167000Z"
    }
   },
   "outputs": [
    {
     "name": "stdout",
     "output_type": "stream",
     "text": [
      "Jim\n",
      "Tom\n",
      "Bob\n"
     ]
    }
   ],
   "source": [
    "from collections import OrderedDict\n",
    "d = OrderedDict()\n",
    "d['Jim'] = (1, 35)\n",
    "d['Tom'] = (2, 37)\n",
    "d['Bob'] = (3, 42)\n",
    "for k in d:\n",
    "    print(k)\n",
    "    # Jim Tom Bob"
   ]
  },
  {
   "cell_type": "markdown",
   "metadata": {},
   "source": [
    "# 实现用户的历史记录功能"
   ]
  },
  {
   "cell_type": "code",
   "execution_count": 91,
   "metadata": {
    "ExecuteTime": {
     "end_time": "2019-01-17T06:55:42.264000Z",
     "start_time": "2019-01-17T06:55:42.256000Z"
    }
   },
   "outputs": [
    {
     "data": {
      "text/plain": [
       "deque([2, 3])"
      ]
     },
     "execution_count": 91,
     "metadata": {},
     "output_type": "execute_result"
    }
   ],
   "source": [
    "from collections import deque\n",
    "q = deque([], 2)\n",
    "q.append(1)\n",
    "q.append(2)\n",
    "q.append(3)\n",
    "q"
   ]
  },
  {
   "cell_type": "markdown",
   "metadata": {},
   "source": [
    "保存python对象到文件中："
   ]
  },
  {
   "cell_type": "code",
   "execution_count": 92,
   "metadata": {
    "ExecuteTime": {
     "end_time": "2019-01-17T06:56:32.641000Z",
     "start_time": "2019-01-17T06:56:32.605000Z"
    }
   },
   "outputs": [],
   "source": [
    "import pickle\n",
    "pickle.dumps?"
   ]
  },
  {
   "cell_type": "markdown",
   "metadata": {},
   "source": [
    "加载文件中的python对象："
   ]
  },
  {
   "cell_type": "code",
   "execution_count": 93,
   "metadata": {
    "ExecuteTime": {
     "end_time": "2019-01-17T06:56:50.386000Z",
     "start_time": "2019-01-17T06:56:50.380000Z"
    }
   },
   "outputs": [],
   "source": [
    "pickle.loads?"
   ]
  }
 ],
 "metadata": {
  "kernelspec": {
   "display_name": "python2.7",
   "language": "python",
   "name": "python2.7"
  },
  "language_info": {
   "codemirror_mode": {
    "name": "ipython",
    "version": 2
   },
   "file_extension": ".py",
   "mimetype": "text/x-python",
   "name": "python",
   "nbconvert_exporter": "python",
   "pygments_lexer": "ipython2",
   "version": "2.7.15"
  },
  "latex_envs": {
   "LaTeX_envs_menu_present": true,
   "autoclose": false,
   "autocomplete": true,
   "bibliofile": "biblio.bib",
   "cite_by": "apalike",
   "current_citInitial": 1,
   "eqLabelWithNumbers": true,
   "eqNumInitial": 1,
   "hotkeys": {
    "equation": "Ctrl-E",
    "itemize": "Ctrl-I"
   },
   "labels_anchors": false,
   "latex_user_defs": false,
   "report_style_numbering": false,
   "user_envs_cfg": false
  },
  "toc": {
   "base_numbering": 1,
   "nav_menu": {},
   "number_sections": true,
   "sideBar": true,
   "skip_h1_title": false,
   "title_cell": "Table of Contents",
   "title_sidebar": "Contents",
   "toc_cell": false,
   "toc_position": {
    "height": "calc(100% - 180px)",
    "left": "10px",
    "top": "150px",
    "width": "349.091px"
   },
   "toc_section_display": true,
   "toc_window_display": true
  }
 },
 "nbformat": 4,
 "nbformat_minor": 2
}
