{
 "cells": [
  {
   "cell_type": "markdown",
   "metadata": {},
   "source": [
    "# 看完后可以学到什么\n",
    "\n",
    "- 学会继承collections模块中Iterable和Iterator类来自定义自己的Iterable和Iterator\n",
    "- 学会使用yield关键字来实现生成器\n",
    "- 学会实现`__reversed__`来提供反向迭代的接口\n",
    "- 原来python中文本文件是可迭代对象\n",
    "- 学会使用itertools中的islice方法对迭代器切片（以往我们都是对列表进行切片的）\n",
    "- 学会用zip实现在一个for语句中并行迭代多个可迭代对象\n",
    "- 学会用itertools中的chain函数实现在一个for语句中串行迭代多个可迭代对象"
   ]
  },
  {
   "cell_type": "markdown",
   "metadata": {},
   "source": [
    "# 如何实现可迭代对象和迭代器对象"
   ]
  },
  {
   "cell_type": "code",
   "execution_count": 9,
   "metadata": {
    "ExecuteTime": {
     "end_time": "2019-01-17T07:23:38.416000Z",
     "start_time": "2019-01-17T07:23:38.406000Z"
    }
   },
   "outputs": [
    {
     "data": {
      "text/plain": [
       "(frozenset({'__iter__'}), frozenset({'next'}))"
      ]
     },
     "execution_count": 9,
     "metadata": {},
     "output_type": "execute_result"
    }
   ],
   "source": [
    "from collections import Iterable, Iterator\n",
    "\n",
    "Iterable.__abstractmethods__, Iterator.__abstractmethods__"
   ]
  },
  {
   "cell_type": "markdown",
   "metadata": {},
   "source": [
    "Iterable的抽象方法是`__iter__`，Iterator的抽象方法是`next`"
   ]
  },
  {
   "cell_type": "code",
   "execution_count": 7,
   "metadata": {
    "ExecuteTime": {
     "end_time": "2019-01-17T07:23:22.163000Z",
     "start_time": "2019-01-17T07:23:22.151000Z"
    }
   },
   "outputs": [
    {
     "name": "stdout",
     "output_type": "stream",
     "text": [
      "北京.....\n",
      "武汉.....\n"
     ]
    }
   ],
   "source": [
    "class WeatherIterator(Iterator):\n",
    "    \n",
    "    def __init__(self, cities):\n",
    "        self.cities = cities\n",
    "        self.index = 0\n",
    "        \n",
    "    def getWeather(self, city):\n",
    "        return city + \".....\"\n",
    "        \n",
    "    def next(self):\n",
    "        if self.index == len(self.cities):\n",
    "            raise StopIteration\n",
    "        city = self.cities[self.index]\n",
    "        self.index += 1\n",
    "        return self.getWeather(city)\n",
    "\n",
    "class WeatherIterable(Iterable):\n",
    "    \n",
    "    def __init__(self, cities):\n",
    "        self.cities = cities\n",
    "        \n",
    "    def __iter__(self):\n",
    "        return WeatherIterator(self.cities)\n",
    "\n",
    "for x in WeatherIterable(['北京', '武汉']):\n",
    "    print(x)"
   ]
  },
  {
   "cell_type": "markdown",
   "metadata": {},
   "source": [
    "# 如何使用生成器函数实现可迭代对象\n",
    "- 实现一个可迭代对象的类, 它能迭代出给定范围内所有素数"
   ]
  },
  {
   "cell_type": "code",
   "execution_count": 14,
   "metadata": {
    "ExecuteTime": {
     "end_time": "2019-01-17T07:27:30.466000Z",
     "start_time": "2019-01-17T07:27:30.457000Z"
    }
   },
   "outputs": [
    {
     "name": "stdout",
     "output_type": "stream",
     "text": [
      "5\n",
      "7\n",
      "9\n",
      "11\n",
      "13\n",
      "15\n"
     ]
    }
   ],
   "source": [
    "from math import sqrt\n",
    "\n",
    "class PrimeNumber:\n",
    "    \n",
    "    def __init__(self, start, end):\n",
    "        self.start = start\n",
    "        self.end = end\n",
    "        \n",
    "    def isPrime(self, k):\n",
    "        for i in range(2, int(sqrt(k) + 1)): # math.sqrt\n",
    "            if k % i == 0:\n",
    "                return False\n",
    "            return True\n",
    "        \n",
    "    def __iter__(self):\n",
    "        for k in range(self.start, self.end+1):\n",
    "            if self.isPrime(k):\n",
    "                yield k  #关键点\n",
    "\n",
    "for x in PrimeNumber(1, 15):\n",
    "    print(x)"
   ]
  },
  {
   "cell_type": "markdown",
   "metadata": {},
   "source": [
    "# 如何进行反向迭代以及如何实现反向迭代\n",
    "- 实现一个连续的浮点数发生器, 根据给定的范围和步长产生一系列的浮点数(反向)"
   ]
  },
  {
   "cell_type": "code",
   "execution_count": 21,
   "metadata": {
    "ExecuteTime": {
     "end_time": "2019-01-17T07:33:52.127000Z",
     "start_time": "2019-01-17T07:33:52.115000Z"
    }
   },
   "outputs": [
    {
     "name": "stdout",
     "output_type": "stream",
     "text": [
      "[1, 1.5, 2.0, 2.5, 3.0, 3.5, 4.0, 4.5, 5.0]\n",
      "[5, 4.5, 4.0, 3.5, 3.0, 2.5, 2.0, 1.5, 1.0]\n"
     ]
    }
   ],
   "source": [
    "class FloatRange:\n",
    "    \n",
    "    def __init__(self, start, end, step=0.1):\n",
    "        self.start = start\n",
    "        self.end = end\n",
    "        self.step = step\n",
    "        \n",
    "    def __iter__(self):\n",
    "        t = self.start\n",
    "        while t <= self.end:\n",
    "            yield t\n",
    "            t += self.step\n",
    "            \n",
    "    def __reversed__(self):\n",
    "        \"\"\"reversed函数以该类为参数输入时会调用该函数\"\"\"\n",
    "        t = self.end\n",
    "        while t >= self.start:\n",
    "            yield t\n",
    "            t -= self.step\n",
    "      \n",
    "    \n",
    "print list(FloatRange(1, 5, 0.5))\n",
    "print list(reversed(FloatRange(1, 5, 0.5)))"
   ]
  },
  {
   "cell_type": "markdown",
   "metadata": {},
   "source": [
    "# 如何对迭代器做切片操作\n",
    "- 有某个文本文件, 我们想读取其中某范围的内容, 如100~300行之间的内容( python中文本文件是可迭代对象)"
   ]
  },
  {
   "cell_type": "code",
   "execution_count": 40,
   "metadata": {
    "ExecuteTime": {
     "end_time": "2019-01-17T07:46:56.777000Z",
     "start_time": "2019-01-17T07:46:56.768000Z"
    }
   },
   "outputs": [
    {
     "data": {
      "text/plain": [
       "['\\n',\n",
       " 'Python\\n',\n",
       " 'Python logo and wordmark.svg\\n',\n",
       " 'Paradigm\\tMulti-paradigm: functional, imperative, object-oriented, reflective\\n',\n",
       " 'Designed by\\tGuido van Rossum\\n',\n",
       " 'Developer\\tPython Software Foundation\\n',\n",
       " 'First appeared\\t1990; 29 years ago[1]\\n',\n",
       " 'Stable release\\t\\n',\n",
       " '3.7.2 / 24 December 2018; 23 days ago[2]\\n',\n",
       " '2.7.15 / 1 May 2018; 8 months ago[3]\\n',\n",
       " 'Typing discipline\\tDuck, dynamic, gradual (since 3.5),[4] strong\\n',\n",
       " 'License\\tPython Software Foundation License\\n',\n",
       " 'Filename extensions\\t.py, .pyc, .pyd, .pyo (prior to 3.5),[5] .pyw, .pyz (since 3.5)[6]\\n',\n",
       " 'Website\\twww.python.org\\n',\n",
       " 'Major implementations\\n',\n",
       " 'CPython, IronPython, Jython, MicroPython, Numba, PyPy, Stackless Python, CircuitPython\\n',\n",
       " 'Dialects\\n',\n",
       " 'Cython, RPython\\n',\n",
       " 'Influenced by\\n',\n",
       " 'ABC,[7] ALGOL 68,[8] APL[9] C,[10] C++,[11] CLU,[12] Dylan,[13] Haskell,[14] Icon,[15] Java,[16] Lisp,[17] Modula-3,[11] Perl, Standard ML[9]\\n',\n",
       " 'Influenced\\n',\n",
       " 'Boo, Cobra, CoffeeScript,[18] D, F#, Genie,[19] Go, Apache Groovy, JavaScript,[20][21] Julia,[22] Nim, Ring,[23] Ruby,[24] Swift[25]\\n',\n",
       " ' Python Programming at Wikibooks\\n',\n",
       " 'Python is an interpreted, high-level, general-purpose programming language. Created by Guido van Rossum and first released in 1991, Python has a design philosophy that emphasizes code readability, notably using significant whitespace. It provides constructs that enable clear programming on both small and large scales.[26] Van Rossum led the language community until stepping down as leader in July 2018.[27][28]\\n',\n",
       " '\\n',\n",
       " 'Python features a dynamic type system and automatic memory management. It supports multiple programming paradigms, including object-oriented, imperative, functional and procedural, and has a large and comprehensive standard library.[29]\\n',\n",
       " '\\n',\n",
       " \"Python interpreters are available for many operating systems. CPython, the reference implementation of Python, is open source software[30] and has a community-based development model, as do nearly all of Python's other implementations. Python and CPython are managed by the non-profit Python Software Foundation.\"]"
      ]
     },
     "execution_count": 40,
     "metadata": {},
     "output_type": "execute_result"
    }
   ],
   "source": [
    "f = open(\"data/words-en.txt\")\n",
    "f.readlines()"
   ]
  },
  {
   "cell_type": "code",
   "execution_count": 41,
   "metadata": {
    "ExecuteTime": {
     "end_time": "2019-01-17T07:46:56.784000Z",
     "start_time": "2019-01-17T07:46:56.780000Z"
    }
   },
   "outputs": [],
   "source": [
    "f.seek(0)"
   ]
  },
  {
   "cell_type": "code",
   "execution_count": 42,
   "metadata": {
    "ExecuteTime": {
     "end_time": "2019-01-17T07:46:56.796000Z",
     "start_time": "2019-01-17T07:46:56.787000Z"
    }
   },
   "outputs": [
    {
     "data": {
      "text/plain": [
       "['Developer\\tPython Software Foundation\\n',\n",
       " 'First appeared\\t1990; 29 years ago[1]\\n',\n",
       " 'Stable release\\t\\n',\n",
       " '3.7.2 / 24 December 2018; 23 days ago[2]\\n',\n",
       " '2.7.15 / 1 May 2018; 8 months ago[3]\\n',\n",
       " 'Typing discipline\\tDuck, dynamic, gradual (since 3.5),[4] strong\\n',\n",
       " 'License\\tPython Software Foundation License\\n',\n",
       " 'Filename extensions\\t.py, .pyc, .pyd, .pyo (prior to 3.5),[5] .pyw, .pyz (since 3.5)[6]\\n',\n",
       " 'Website\\twww.python.org\\n',\n",
       " 'Major implementations\\n']"
      ]
     },
     "execution_count": 42,
     "metadata": {},
     "output_type": "execute_result"
    }
   ],
   "source": [
    "from itertools import islice\n",
    "a = islice(f, 5, 15) # 5-51行，若要读到末尾，则15可写成None\n",
    "list(a)"
   ]
  },
  {
   "cell_type": "markdown",
   "metadata": {},
   "source": [
    "**注意islice会消耗原来的迭代对象，比如上面调用了islice(f, 5, 15)，那么在再次迭代f的后就是从15行之后开始的，在使用迭代器的时候需要注意这一点。**"
   ]
  },
  {
   "cell_type": "code",
   "execution_count": 43,
   "metadata": {
    "ExecuteTime": {
     "end_time": "2019-01-17T07:46:56.827000Z",
     "start_time": "2019-01-17T07:46:56.818000Z"
    }
   },
   "outputs": [
    {
     "data": {
      "text/plain": [
       "['CPython, IronPython, Jython, MicroPython, Numba, PyPy, Stackless Python, CircuitPython\\n',\n",
       " 'Dialects\\n',\n",
       " 'Cython, RPython\\n',\n",
       " 'Influenced by\\n',\n",
       " 'ABC,[7] ALGOL 68,[8] APL[9] C,[10] C++,[11] CLU,[12] Dylan,[13] Haskell,[14] Icon,[15] Java,[16] Lisp,[17] Modula-3,[11] Perl, Standard ML[9]\\n',\n",
       " 'Influenced\\n',\n",
       " 'Boo, Cobra, CoffeeScript,[18] D, F#, Genie,[19] Go, Apache Groovy, JavaScript,[20][21] Julia,[22] Nim, Ring,[23] Ruby,[24] Swift[25]\\n',\n",
       " ' Python Programming at Wikibooks\\n',\n",
       " 'Python is an interpreted, high-level, general-purpose programming language. Created by Guido van Rossum and first released in 1991, Python has a design philosophy that emphasizes code readability, notably using significant whitespace. It provides constructs that enable clear programming on both small and large scales.[26] Van Rossum led the language community until stepping down as leader in July 2018.[27][28]\\n',\n",
       " '\\n',\n",
       " 'Python features a dynamic type system and automatic memory management. It supports multiple programming paradigms, including object-oriented, imperative, functional and procedural, and has a large and comprehensive standard library.[29]\\n',\n",
       " '\\n',\n",
       " \"Python interpreters are available for many operating systems. CPython, the reference implementation of Python, is open source software[30] and has a community-based development model, as do nearly all of Python's other implementations. Python and CPython are managed by the non-profit Python Software Foundation.\"]"
      ]
     },
     "execution_count": 43,
     "metadata": {},
     "output_type": "execute_result"
    }
   ],
   "source": [
    "[i for i in f]"
   ]
  },
  {
   "cell_type": "markdown",
   "metadata": {},
   "source": [
    "# 如何在一个 for 语句中迭代多个可迭代对象\n",
    "- 并行迭代：学生各科成绩分别存储在各个对应列表中, 同时迭代这些列表, 计算每个学生的总成绩"
   ]
  },
  {
   "cell_type": "code",
   "execution_count": 47,
   "metadata": {
    "ExecuteTime": {
     "end_time": "2019-01-17T07:54:40.102000Z",
     "start_time": "2019-01-17T07:54:40.096000Z"
    }
   },
   "outputs": [
    {
     "name": "stdout",
     "output_type": "stream",
     "text": [
      "152\n",
      "153\n",
      "231\n",
      "249\n"
     ]
    }
   ],
   "source": [
    "chinese = [80,70,60,90]\n",
    "math = [65,78,86,96]\n",
    "english= [75,85,63,97]\n",
    "for a, b,c in zip(chinese, math, english):\n",
    "    print a+b+c"
   ]
  },
  {
   "cell_type": "markdown",
   "metadata": {},
   "source": [
    "- 串行迭代：某年级4个班, 某次英语考试成绩存在4个列表中, 统计成绩高于90的人数"
   ]
  },
  {
   "cell_type": "code",
   "execution_count": 51,
   "metadata": {
    "ExecuteTime": {
     "end_time": "2019-01-17T07:57:21.617000Z",
     "start_time": "2019-01-17T07:57:21.607000Z"
    }
   },
   "outputs": [
    {
     "data": {
      "text/plain": [
       "4"
      ]
     },
     "execution_count": 51,
     "metadata": {},
     "output_type": "execute_result"
    }
   ],
   "source": [
    "from itertools import chain\n",
    "\n",
    "english1 = [75, 85, 63, 97]\n",
    "english2 = [75, 85, 63, 97]\n",
    "english3 = [75, 85, 63, 97]\n",
    "english4 = [75, 85, 63, 97]\n",
    "cnt = 0\n",
    "for i in chain(english1, english2, english3, english4):\n",
    "    if i > 90:\n",
    "        cnt +=1\n",
    "cnt"
   ]
  }
 ],
 "metadata": {
  "kernelspec": {
   "display_name": "python2.7",
   "language": "python",
   "name": "python2.7"
  },
  "language_info": {
   "codemirror_mode": {
    "name": "ipython",
    "version": 2
   },
   "file_extension": ".py",
   "mimetype": "text/x-python",
   "name": "python",
   "nbconvert_exporter": "python",
   "pygments_lexer": "ipython2",
   "version": "2.7.15"
  },
  "latex_envs": {
   "LaTeX_envs_menu_present": true,
   "autoclose": false,
   "autocomplete": true,
   "bibliofile": "biblio.bib",
   "cite_by": "apalike",
   "current_citInitial": 1,
   "eqLabelWithNumbers": true,
   "eqNumInitial": 1,
   "hotkeys": {
    "equation": "Ctrl-E",
    "itemize": "Ctrl-I"
   },
   "labels_anchors": false,
   "latex_user_defs": false,
   "report_style_numbering": false,
   "user_envs_cfg": false
  },
  "toc": {
   "base_numbering": 1,
   "nav_menu": {},
   "number_sections": true,
   "sideBar": true,
   "skip_h1_title": false,
   "title_cell": "Table of Contents",
   "title_sidebar": "Contents",
   "toc_cell": false,
   "toc_position": {},
   "toc_section_display": true,
   "toc_window_display": true
  }
 },
 "nbformat": 4,
 "nbformat_minor": 2
}
